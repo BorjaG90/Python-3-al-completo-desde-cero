{
 "cells": [
  {
   "cell_type": "markdown",
   "metadata": {},
   "source": [
    "# Tema 02: Operadores y expresiones (Enunciados)\n",
    "*Nota: Estos ejercicios son optativos para hacer al final de la unidad y están pensados para apoyar tu aprendizaje*."
   ]
  },
  {
   "cell_type": "markdown",
   "metadata": {},
   "source": [
    "**1) Realiza un programa que lea 2 números por teclado y determine los siguientes aspectos (es suficiene con mostrar True o False):**\n",
    "* Si los dos números son iguales\n",
    "* Si los dos números son diferentes\n",
    "* Si el primero es mayor que el segundo\n",
    "* Si el segundo es mayor o igual que el primero"
   ]
  },
  {
   "cell_type": "code",
   "execution_count": 3,
   "metadata": {},
   "outputs": [
    {
     "name": "stdout",
     "output_type": "stream",
     "text": [
      "Introduce número 1: 7\n",
      "Introduce número 2: 7\n",
      "¿Los números son iguales?  True\n",
      "¿Los números son diferentes?  False\n",
      "¿El primer número es mayor que el segundo?  False\n",
      "¿El segundo número es mayor o igual que el primero?  True\n"
     ]
    }
   ],
   "source": [
    "# Completa el ejercicio aquí\n",
    "a = float(input(\"Introduce número 1: \"))\n",
    "b = float(input(\"Introduce número 2: \"))\n",
    "print(\"¿Los números son iguales? \", a == b)\n",
    "print(\"¿Los números son diferentes? \", a != b)\n",
    "print(\"¿El primer número es mayor que el segundo? \", a > b)\n",
    "print(\"¿El segundo número es mayor o igual que el primero? \",a <= b)"
   ]
  },
  {
   "cell_type": "markdown",
   "metadata": {},
   "source": [
    "**2) Utilizando operadores lógicos, determina si una cadena de texto introducida por el usuario tiene una longitud mayor o igual que 3 y a su vez es menor que 10 (es suficiene con mostrar True o False):**"
   ]
  },
  {
   "cell_type": "code",
   "execution_count": 5,
   "metadata": {},
   "outputs": [
    {
     "name": "stdout",
     "output_type": "stream",
     "text": [
      "Introduce la cadena: efert\n",
      "Longitud mayor o igual a 3 y menor que 10  True\n"
     ]
    }
   ],
   "source": [
    "# Completa el ejercicio aquí\n",
    "cad = input(\"Introduce la cadena: \")\n",
    "print(\"Longitud mayor o igual a 3 y menor que 10 \", len(cad)>=3 and len(cad)<10)"
   ]
  },
  {
   "cell_type": "markdown",
   "metadata": {},
   "source": [
    "**3) Realiza un programa que cumpla el siguiente algoritmo utilizando siempre que sea posible operadores en asignación:**\n",
    "* Guarda en una variable numero_magico el valor 12345679 (sin el 8)\n",
    "* Lee por pantalla otro numero_usuario, especifica que sea entre 1 y 9 (asegúrate que es un número)\n",
    "* Multiplica el numero_usuario por 9 en sí mismo\n",
    "* Multiplica el numero_magico por el numero_usuario en sí mismo\n",
    "* Finalmente muestra el valor final del numero_magico por pantalla\n"
   ]
  },
  {
   "cell_type": "code",
   "execution_count": 6,
   "metadata": {},
   "outputs": [
    {
     "name": "stdout",
     "output_type": "stream",
     "text": [
      "Introduce número del 1 al 9: 6\n",
      "666666666\n"
     ]
    }
   ],
   "source": [
    "# Completa el ejercicio aquí\n",
    "numero_magico = 12345679\n",
    "numero_usuario = int(input(\"Introduce número del 1 al 9: \"))\n",
    "numero_usuario*=9\n",
    "numero_magico*=numero_usuario\n",
    "print(numero_magico)"
   ]
  },
  {
   "cell_type": "code",
   "execution_count": null,
   "metadata": {
    "collapsed": true
   },
   "outputs": [],
   "source": []
  }
 ],
 "metadata": {
  "anaconda-cloud": {},
  "kernelspec": {
   "display_name": "Python 3",
   "language": "python",
   "name": "python3"
  },
  "language_info": {
   "codemirror_mode": {
    "name": "ipython",
    "version": 3
   },
   "file_extension": ".py",
   "mimetype": "text/x-python",
   "name": "python",
   "nbconvert_exporter": "python",
   "pygments_lexer": "ipython3",
   "version": "3.6.1"
  }
 },
 "nbformat": 4,
 "nbformat_minor": 1
}
