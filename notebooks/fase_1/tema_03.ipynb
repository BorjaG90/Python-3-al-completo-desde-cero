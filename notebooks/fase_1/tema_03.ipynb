{
 "cells": [
  {
   "cell_type": "markdown",
   "metadata": {},
   "source": [
    "# Tema 03: Control de flujo (Enunciados)\n",
    "*Nota: Estos ejercicios son optativos para hacer al final de la unidad y están pensados para apoyar tu aprendizaje*."
   ]
  },
  {
   "cell_type": "markdown",
   "metadata": {},
   "source": [
    "**1) Realiza un programa que lea dos números por teclado y permita elegir entre 3 opciones en un menú:** \n",
    "* Mostrar una suma de los dos números\n",
    "* Mostrar una resta de los dos números (el primero menos el segundo)\n",
    "* Mostrar una multiplicación de los dos números\n",
    "* En caso de no introducir una opción válida, el programa informará de que no es correcta."
   ]
  },
  {
   "cell_type": "code",
   "execution_count": 11,
   "metadata": {},
   "outputs": [
    {
     "name": "stdout",
     "output_type": "stream",
     "text": [
      "\n",
      "1 - Suma\n",
      "2 - Resta\n",
      "3 - Multiplicación\n",
      "4 - Salir\n",
      "Introduce opción: 5\n",
      "Error - Opcion incorrecta\n",
      "\n",
      "1 - Suma\n",
      "2 - Resta\n",
      "3 - Multiplicación\n",
      "4 - Salir\n",
      "Introduce opción: 4\n"
     ]
    }
   ],
   "source": [
    "# Completa el ejercicio aquí\n",
    "opcion=0\n",
    "while opcion >= 0 and opcion != 4:\n",
    "    print(\"\\n1 - Suma\\n2 - Resta\\n3 - Multiplicación\\n4 - Salir\")\n",
    "    opcion = int(input(\"Introduce opción: \"))\n",
    "    if opcion == 1: \n",
    "        a=int(input(\"Introduce nº 1: \"))\n",
    "        b=int(input(\"Introduce nº 2: \"))\n",
    "        print(\"Suma: \", a+b)\n",
    "    elif opcion == 2:\n",
    "        a=int(input(\"Introduce nº 1: \"))\n",
    "        b=int(input(\"Introduce nº 2: \"))\n",
    "        print(\"Resta: \", a-b)\n",
    "    elif opcion == 3:\n",
    "        a=int(input(\"Introduce nº 1: \"))\n",
    "        b=int(input(\"Introduce nº 2: \"))\n",
    "        print(\"Multiplicación: \", a*b)\n",
    "    elif opcion == 4:\n",
    "        break\n",
    "    else:\n",
    "        print(\"Error - Opcion incorrecta\")\n",
    "else:\n",
    "    print(\"Saliendo del programa\")\n",
    "\n"
   ]
  },
  {
   "cell_type": "markdown",
   "metadata": {},
   "source": [
    "**2) Realiza un programa que lea un número impar por teclado. Si el usuario no introduce un número impar, debe repetise el proceso hasta que lo introduzca correctamente.**"
   ]
  },
  {
   "cell_type": "code",
   "execution_count": 14,
   "metadata": {},
   "outputs": [
    {
     "name": "stdout",
     "output_type": "stream",
     "text": [
      "Introduzca un nº impar: 4\n",
      "Introduzca un nº impar: 5\n",
      "Correcto\n"
     ]
    }
   ],
   "source": [
    "# Completa el ejercicio aquí\n",
    "a = 0\n",
    "while a%2 == 0:\n",
    "    a = int(input(\"Introduzca un nº impar: \"))\n",
    "else:\n",
    "    print(\"Correcto\")"
   ]
  },
  {
   "cell_type": "markdown",
   "metadata": {},
   "source": [
    "**3) Realiza un programa que sume todos los números enteros pares desde el 0 hasta el 100:**\n",
    "\n",
    "*Sugerencia: Puedes utilizar la funciones sum() y range() para hacerlo más fácil. El tercer parámetro en la función range(inicio, fin, salto) indica un salto de números, pruébalo.*"
   ]
  },
  {
   "cell_type": "code",
   "execution_count": 20,
   "metadata": {},
   "outputs": [
    {
     "data": {
      "text/plain": [
       "2550"
      ]
     },
     "execution_count": 20,
     "metadata": {},
     "output_type": "execute_result"
    }
   ],
   "source": [
    "# Completa el ejercicio aquí\n",
    "\n",
    "sum(range(0,101,2))"
   ]
  },
  {
   "cell_type": "markdown",
   "metadata": {},
   "source": [
    "**4) Realiza un programa que pida al usuario cuantos números quiere introducir. Luego lee todos los números y realiza una media aritmética:**\n"
   ]
  },
  {
   "cell_type": "code",
   "execution_count": 24,
   "metadata": {},
   "outputs": [
    {
     "name": "stdout",
     "output_type": "stream",
     "text": [
      "Número de elementos: 4\n",
      "Introduce un numero: 2\n",
      "Introduce un numero: 6\n",
      "Introduce un numero: 7\n",
      "Introduce un numero: 3\n",
      "Media:  4.5\n"
     ]
    }
   ],
   "source": [
    "# Completa el ejercicio aquí\n",
    "suma=0\n",
    "num = int(input(\"Número de elementos: \"))\n",
    "for i in range(num):\n",
    "    suma += float(input(\"Introduce un numero: \"))\n",
    "print(\"Media: \",suma/num)"
   ]
  },
  {
   "cell_type": "markdown",
   "metadata": {},
   "source": [
    "**5) Realiza un programa que pida al usuario un número entero del 0 al 9, y que mientras el número no sea correcto se repita el proceso. Luego debe comprobar si el número se encuentra en la lista de números y notificarlo:**\n",
    "\n",
    "*Consejo: La sintaxis \"valor in lista\" permite comprobar fácilmente si un valor se encuentra en una lista (devuelve True o False)*"
   ]
  },
  {
   "cell_type": "code",
   "execution_count": 29,
   "metadata": {},
   "outputs": [
    {
     "name": "stdout",
     "output_type": "stream",
     "text": [
      "Introduzca un número: 10\n",
      "Introduzca un número: 7\n",
      "El nº  7  no existe en la lista\n"
     ]
    }
   ],
   "source": [
    "# Completa el ejercicio aquí\n",
    "numeros = [1, 3, 6, 9]\n",
    "num = 0\n",
    "while num > 9 or num <1 :\n",
    "    num= int(input(\"Introduzca un número: \"))\n",
    "if num in numeros:\n",
    "    print(\"El nº \",num,\" existe en la lista\")\n",
    "else:\n",
    "    print(\"El nº \",num,\" no existe en la lista\")"
   ]
  },
  {
   "cell_type": "markdown",
   "metadata": {},
   "source": [
    "**6) Utilizando la función range() y la conversión a listas genera las siguientes listas dinámicamente:**\n",
    "* Todos los números del 0 al 10 [0, 1, 2, ..., 10]\n",
    "* Todos los números del -10 al 0 [-10, -9, -8, ..., 0]\n",
    "* Todos los números pares del 0 al 20 [0, 2, 4, ..., 20]\n",
    "* Todos los números impares entre -20 y 0 [-19, -17, -15, ..., -1]\n",
    "* Todos los números múltiples de 5 del 0 al 50 [0, 5, 10, ..., 50]\n",
    "\n",
    "*Pista: Utiliza el tercer parámetro de la función range(inicio, fin, salto).*"
   ]
  },
  {
   "cell_type": "code",
   "execution_count": 35,
   "metadata": {},
   "outputs": [
    {
     "name": "stdout",
     "output_type": "stream",
     "text": [
      "[0, 1, 2, 3, 4, 5, 6, 7, 8, 9, 10]\n",
      "[-10, -9, -8, -7, -6, -5, -4, -3, -2, -1]\n",
      "[0, 2, 4, 6, 8, 10, 12, 14, 16, 18, 20]\n",
      "[-19, -17, -15, -13, -11, -9, -7, -5, -3, -1]\n",
      "[0, 5, 10, 15, 20, 25, 30, 35, 40, 45, 50]\n"
     ]
    }
   ],
   "source": [
    "# Completa el ejercicio\n",
    "print(list(range(11)))\n",
    "print(list(range(-10,0)))\n",
    "print(list(range(0,21,2)))\n",
    "print(list(range(-19,0,2)))\n",
    "print(list(range(0,51,5)))\n"
   ]
  },
  {
   "cell_type": "markdown",
   "metadata": {},
   "source": [
    "**7) Dadas dos listas, debes generar una tercera con todos los elementos que se repitan en ellas, pero no debe repetise ningún elemento en la nueva lista:**"
   ]
  },
  {
   "cell_type": "code",
   "execution_count": 39,
   "metadata": {},
   "outputs": [
    {
     "name": "stdout",
     "output_type": "stream",
     "text": [
      "[1, 3, 5, 13, 21]\n"
     ]
    }
   ],
   "source": [
    "# Completa el ejercicio aquí\n",
    "l1 = [1,3,5,7,9,11,13,15,17,19,21]\n",
    "l2 = [1,1,2,3,5,8,13,21]\n",
    "l3 = []\n",
    "for n in l1:\n",
    "    if n in l2 and n not in l3:\n",
    "        l3.append(n)\n",
    "print(l3)"
   ]
  },
  {
   "cell_type": "code",
   "execution_count": null,
   "metadata": {
    "collapsed": true
   },
   "outputs": [],
   "source": []
  }
 ],
 "metadata": {
  "anaconda-cloud": {},
  "kernelspec": {
   "display_name": "Python 3",
   "language": "python",
   "name": "python3"
  },
  "language_info": {
   "codemirror_mode": {
    "name": "ipython",
    "version": 3
   },
   "file_extension": ".py",
   "mimetype": "text/x-python",
   "name": "python",
   "nbconvert_exporter": "python",
   "pygments_lexer": "ipython3",
   "version": "3.6.1"
  }
 },
 "nbformat": 4,
 "nbformat_minor": 1
}
